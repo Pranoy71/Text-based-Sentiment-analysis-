{
 "cells": [
  {
   "cell_type": "code",
   "execution_count": 3,
   "id": "fc95c442-f19e-4c6c-8d71-7ade89750512",
   "metadata": {},
   "outputs": [
    {
     "data": {
      "text/plain": [
       "'2.14.0'"
      ]
     },
     "execution_count": 3,
     "metadata": {},
     "output_type": "execute_result"
    }
   ],
   "source": [
    "import tensorflow as tf\n",
    "tf.__version__"
   ]
  },
  {
   "cell_type": "code",
   "execution_count": 6,
   "id": "9d34dc3c-1189-4037-9ad3-02068bf5cf0c",
   "metadata": {},
   "outputs": [],
   "source": [
    "import pandas as pd\n",
    "from sklearn import preprocessing\n",
    "from sklearn.feature_extraction.text import CountVectorizer\n",
    "from tensorflow.keras.models import load_model\n",
    "import pickle\n",
    "from nltk.stem.porter import PorterStemmer\n",
    "import re\n",
    "from nltk.corpus import stopwords\n",
    "import tensorflow as tf\n",
    "import keras\n",
    "import numpy as np\n",
    "#text preprocessing\n",
    "ps = PorterStemmer()\n",
    "\n",
    "def preprocess(line):\n",
    "    review = re.sub('[^a-zA-Z]', ' ', line) #leave only characters from a to z\n",
    "    review = review.lower() #lower the text\n",
    "    review = review.split() #turn string into list of words\n",
    "\n",
    "    review = [ps.stem(word) for word in review if not word in stopwords.words('english')] #delete stop words like I, and ,OR\n",
    "    #trun list into sentences\n",
    "    return \" \".join(review)\n",
    "\n",
    "\n",
    "sentiment_model=tf.keras.models.load_model(\"mental_health_classification_model_v4_10000_feature.keras\")\n",
    "\n",
    "with open('CountVectorizer_v4.pkl', 'rb') as file:\n",
    "    content = file.read()\n",
    "    cv2= pickle.loads(content)\n",
    "with open('encoder_v4.pkl', 'rb') as file:\n",
    "    content = file.read()\n",
    "    label_encoder2 = pickle.loads(content)\n",
    "\n"
   ]
  },
  {
   "cell_type": "code",
   "execution_count": 7,
   "id": "2f2913ea-a8cd-425f-a173-b614260da4a2",
   "metadata": {},
   "outputs": [
    {
     "name": "stdout",
     "output_type": "stream",
     "text": [
      "want go h\n"
     ]
    }
   ],
   "source": [
    "print(preprocess(\"i want to go. out.h\"))"
   ]
  },
  {
   "cell_type": "code",
   "execution_count": 8,
   "id": "854a9b97-00e5-4d6d-9798-a8a2c605f7bb",
   "metadata": {},
   "outputs": [],
   "source": [
    "def sentiment_ditection(text):\n",
    "    \n",
    "    text=preprocess(text)\n",
    "    array = cv2.transform([text]).toarray()\n",
    "    pred = sentiment_model.predict(array)\n",
    "    a=np.argmax(pred, axis=1)\n",
    "    sentiment=label_encoder2.inverse_transform(a)[0]\n",
    "    return sentiment"
   ]
  },
  {
   "cell_type": "code",
   "execution_count": 9,
   "id": "027c6e53-3310-4f2b-8b5a-a2fddf401967",
   "metadata": {},
   "outputs": [],
   "source": [
    "#-------------------------------------------for sentiment ditection purpose only--------------------------------#"
   ]
  },
  {
   "cell_type": "code",
   "execution_count": 10,
   "id": "2d77727e-f7f5-43b9-8146-bfe406c56095",
   "metadata": {},
   "outputs": [
    {
     "name": "stdout",
     "output_type": "stream",
     "text": [
      "1/1 [==============================] - 0s 191ms/step\n",
      "sadness\n"
     ]
    }
   ],
   "source": [
    "print(sentiment_ditection(\"I really feel depressed today , dont know what to do \"))"
   ]
  },
  {
   "cell_type": "code",
   "execution_count": null,
   "id": "3a272b3f-c5f5-4f42-901b-bc3431df47ea",
   "metadata": {},
   "outputs": [],
   "source": [
    "#-----------------------------for building a small chatbot using the model as backebnd for sentiment analysis-------------------#"
   ]
  },
  {
   "cell_type": "code",
   "execution_count": null,
   "id": "c2d37c39-a710-4253-87a1-6c5ca330bdf7",
   "metadata": {},
   "outputs": [],
   "source": [
    "#-----------------------------------------Using DailoGPT for handeling convertations----------------------------------------#"
   ]
  },
  {
   "cell_type": "code",
   "execution_count": null,
   "id": "444f682a-0d87-4188-b5fc-3b06a0021e5e",
   "metadata": {},
   "outputs": [],
   "source": [
    "from transformers import AutoModelForCausalLM, AutoTokenizer, pipeline\n",
    "import torch\n",
    "\n",
    "# Load the conversational model and tokenizer\n",
    "model_name = \"microsoft/DialoGPT-medium\" \n",
    "tokenizer = AutoTokenizer.from_pretrained(model_name,padding_side='left')\n",
    "model = AutoModelForCausalLM.from_pretrained(model_name)\n"
   ]
  },
  {
   "cell_type": "code",
   "execution_count": 23,
   "id": "1ca71c02-cf35-48cb-9038-13c524c21ef7",
   "metadata": {},
   "outputs": [],
   "source": [
    "from transformers import AutoModelForCausalLM, AutoTokenizer, pipeline\n",
    "import torch\n",
    "import numpy as np\n",
    "\n",
    "\n",
    "#model_name = \"microsoft/DialoGPT-medium\"  \n",
    "#tokenizer = AutoTokenizer.from_pretrained(model_name)\n",
    "#model = AutoModelForCausalLM.from_pretrained(model_name)\n",
    "\n",
    "\n",
    "\n",
    "conversation_history = []\n",
    "user_input_count = 0\n",
    "conversation_history_ids = None\n",
    "\n",
    "def get_response(input_text):\n",
    "    global conversation_history, user_input_count, conversation_history_ids\n",
    "\n",
    "    conversation_history.append(f\"User: {input_text}\")\n",
    "    user_input_count += 1\n",
    "\n",
    "    # Generate a response from the conversational model\n",
    "    inputs = tokenizer.encode(input_text + tokenizer.eos_token, return_tensors='pt')\n",
    "    if user_input_count > 1:\n",
    "        conversation_ids = torch.cat([conversation_history_ids, inputs], dim=-1)\n",
    "    else:\n",
    "        conversation_ids = inputs\n",
    "    conversation_history_ids = model.generate(conversation_ids, max_length=1000, pad_token_id=tokenizer.eos_token_id)\n",
    "    response = tokenizer.decode(conversation_history_ids[:, conversation_ids.shape[-1]:][0], skip_special_tokens=True)\n",
    "\n",
    "    conversation_history.append(f\"Bot: {response}\")\n",
    "\n",
    "    # Perform sentiment analysis every 5 user inputs\n",
    "    if user_input_count % 2 == 0:\n",
    "        analyze_sentiments(conversation_history)\n",
    "\n",
    "    return response\n",
    "\n",
    "def analyze_sentiments(conversation_history):\n",
    "    conversation_text = ' '.join(conversation_history)\n",
    "    sentiment = sentiment_ditection(conversation_text)\n",
    "    sloka, explanation = get_sloka_by_sentiment(sentiment)\n",
    "    print(f\"Sentiment detected: {sentiment}\")\n",
    "    print(f\"Sloka: {sloka}\")\n",
    "    print(f\"Explanation: {explanation}\")\n",
    "#general responses when a sentiment is detected\n",
    "def get_sloka_by_sentiment(sentiment):\n",
    "    slokas = {\n",
    "        \"sadness\": (\"Bhagavad Gita 2.47\", \"You have a right to perform your prescribed duties, but you are not entitled to the fruits of your actions.\"),\n",
    "        \"anger\": (\"Bhagavad Gita 2.63\", \"From anger, complete delusion arises, and from delusion, bewilderment of memory. When memory is bewildered, intelligence is lost, and when intelligence is lost one falls down again into the material pool.\"),\n",
    "        \"love\": (\"Bhagavad Gita 9.22\", \"But those who always worship Me with exclusive devotion, meditating on My transcendental form—to them I carry what they lack, and I preserve what they have.\"),\n",
    "        \"surprise\": (\"Bhagavad Gita 10.41\", \"Know that all opulent, beautiful and glorious creations spring from but a spark of My splendor.\"),\n",
    "        \"joy\": (\"Bhagavad Gita 6.22\", \"In that joyous state, one is situated in boundless transcendental happiness and enjoys himself through transcendental senses.\"),\n",
    "        \"fear\": (\"Bhagavad Gita 4.10\", \"Being freed from attachment, fear and anger, being fully absorbed in Me and taking refuge in Me, many, many persons in the past became purified by knowledge of Me—and thus they all attained transcendental love for Me.\")\n",
    "    }\n",
    "    return slokas.get(sentiment, (\"Sloka not found\", \"kaj cholcheeeeee\"))\n",
    "\n",
    "\n"
   ]
  },
  {
   "cell_type": "code",
   "execution_count": 24,
   "id": "43daec78-60da-44f1-8404-568b57979a74",
   "metadata": {},
   "outputs": [
    {
     "name": "stdout",
     "output_type": "stream",
     "text": [
      "Chatbot: Hi! I'm here to help you. Type 'exit' to end the conversation.\n"
     ]
    },
    {
     "name": "stdin",
     "output_type": "stream",
     "text": [
      "You:  who are you \n"
     ]
    },
    {
     "name": "stderr",
     "output_type": "stream",
     "text": [
      "A decoder-only architecture is being used, but right-padding was detected! For correct generation results, please set `padding_side='left'` when initializing the tokenizer.\n"
     ]
    },
    {
     "name": "stdout",
     "output_type": "stream",
     "text": [
      "Chatbot: I'm a guy who likes to play video games.\n"
     ]
    },
    {
     "name": "stdin",
     "output_type": "stream",
     "text": [
      "You:  do you remember what is said before\n"
     ]
    },
    {
     "name": "stderr",
     "output_type": "stream",
     "text": [
      "A decoder-only architecture is being used, but right-padding was detected! For correct generation results, please set `padding_side='left'` when initializing the tokenizer.\n"
     ]
    },
    {
     "name": "stdout",
     "output_type": "stream",
     "text": [
      "1/1 [==============================] - 16s 16s/step\n",
      "Sentiment detected: joy\n",
      "Sloka: Bhagavad Gita 6.22\n",
      "Explanation: In that joyous state, one is situated in boundless transcendental happiness and enjoys himself through transcendental senses.\n",
      "Chatbot: I don't remember.\n"
     ]
    },
    {
     "name": "stdin",
     "output_type": "stream",
     "text": [
      "You:  tell me about yourself\n"
     ]
    },
    {
     "name": "stderr",
     "output_type": "stream",
     "text": [
      "A decoder-only architecture is being used, but right-padding was detected! For correct generation results, please set `padding_side='left'` when initializing the tokenizer.\n"
     ]
    },
    {
     "name": "stdout",
     "output_type": "stream",
     "text": [
      "Chatbot: I'm a guy who likes to play video games.\n"
     ]
    },
    {
     "name": "stdin",
     "output_type": "stream",
     "text": [
      "You:  do you know who i am . and tell me what you know about depression\n"
     ]
    },
    {
     "name": "stderr",
     "output_type": "stream",
     "text": [
      "A decoder-only architecture is being used, but right-padding was detected! For correct generation results, please set `padding_side='left'` when initializing the tokenizer.\n"
     ]
    },
    {
     "name": "stdout",
     "output_type": "stream",
     "text": [
      "1/1 [==============================] - 0s 184ms/step\n",
      "Sentiment detected: love\n",
      "Sloka: Bhagavad Gita 9.22\n",
      "Explanation: But those who always worship Me with exclusive devotion, meditating on My transcendental form—to them I carry what they lack, and I preserve what they have.\n",
      "Chatbot: I don't know who you are.\n"
     ]
    },
    {
     "name": "stdin",
     "output_type": "stream",
     "text": [
      "You:  tell me about mental health\n"
     ]
    },
    {
     "name": "stderr",
     "output_type": "stream",
     "text": [
      "A decoder-only architecture is being used, but right-padding was detected! For correct generation results, please set `padding_side='left'` when initializing the tokenizer.\n"
     ]
    },
    {
     "name": "stdout",
     "output_type": "stream",
     "text": [
      "Chatbot: I don't know who you are.\n"
     ]
    },
    {
     "name": "stdin",
     "output_type": "stream",
     "text": [
      "You:  i feel very depressing today\n"
     ]
    },
    {
     "name": "stderr",
     "output_type": "stream",
     "text": [
      "A decoder-only architecture is being used, but right-padding was detected! For correct generation results, please set `padding_side='left'` when initializing the tokenizer.\n"
     ]
    },
    {
     "name": "stdout",
     "output_type": "stream",
     "text": [
      "1/1 [==============================] - 0s 46ms/step\n",
      "Sentiment detected: sadness\n",
      "Sloka: Bhagavad Gita 2.47\n",
      "Explanation: You have a right to perform your prescribed duties, but you are not entitled to the fruits of your actions.\n",
      "Chatbot: I don't know who you are\n"
     ]
    },
    {
     "name": "stdin",
     "output_type": "stream",
     "text": [
      "You:  who are you\n"
     ]
    },
    {
     "name": "stderr",
     "output_type": "stream",
     "text": [
      "A decoder-only architecture is being used, but right-padding was detected! For correct generation results, please set `padding_side='left'` when initializing the tokenizer.\n"
     ]
    },
    {
     "name": "stdout",
     "output_type": "stream",
     "text": [
      "Chatbot: I don't know who you are\n"
     ]
    },
    {
     "name": "stdin",
     "output_type": "stream",
     "text": [
      "You:  q\n"
     ]
    },
    {
     "name": "stdout",
     "output_type": "stream",
     "text": [
      "Chatbot: Goodbye!\n"
     ]
    }
   ],
   "source": [
    "def chat_loop():\n",
    "    print(\"Chatbot: Hi! I'm here to help you. Type 'exit' to end the conversation.\")\n",
    "    while True:\n",
    "        user_input = input(\"You: \")\n",
    "        if user_input.lower() == 'q':\n",
    "            print(\"Chatbot: Goodbye!\")\n",
    "            break\n",
    "        response = get_response(user_input)\n",
    "        print(f\"Chatbot: {response}\")\n",
    "\n",
    "# Start the chat loop\n",
    "if __name__ == \"__main__\":\n",
    "    chat_loop()"
   ]
  },
  {
   "cell_type": "code",
   "execution_count": null,
   "id": "bab943b4-fcd5-4db7-9dd0-73d86084017f",
   "metadata": {},
   "outputs": [],
   "source": []
  }
 ],
 "metadata": {
  "kernelspec": {
   "display_name": "Python 3 (ipykernel)",
   "language": "python",
   "name": "python3"
  },
  "language_info": {
   "codemirror_mode": {
    "name": "ipython",
    "version": 3
   },
   "file_extension": ".py",
   "mimetype": "text/x-python",
   "name": "python",
   "nbconvert_exporter": "python",
   "pygments_lexer": "ipython3",
   "version": "3.10.6"
  }
 },
 "nbformat": 4,
 "nbformat_minor": 5
}
