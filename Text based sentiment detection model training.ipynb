{
 "cells": [
  {
   "cell_type": "code",
   "execution_count": null,
   "id": "20bf74a3",
   "metadata": {},
   "outputs": [],
   "source": []
  },
  {
   "cell_type": "code",
   "execution_count": 1,
   "id": "0a5123fe",
   "metadata": {},
   "outputs": [
    {
     "name": "stdout",
     "output_type": "stream",
     "text": [
      "2.14.0\n"
     ]
    }
   ],
   "source": [
    "import tensorflow as tf \n",
    "print(tf.__version__) "
   ]
  },
  {
   "cell_type": "code",
   "execution_count": 2,
   "id": "1b477834",
   "metadata": {},
   "outputs": [
    {
     "data": {
      "text/plain": [
       "'2.14.0'"
      ]
     },
     "execution_count": 2,
     "metadata": {},
     "output_type": "execute_result"
    }
   ],
   "source": [
    "import keras\n",
    "keras.__version__"
   ]
  },
  {
   "cell_type": "code",
   "execution_count": 4,
   "id": "e2e0b6e3",
   "metadata": {},
   "outputs": [],
   "source": [
    "import pandas as pd\n",
    "from nltk.corpus import stopwords\n",
    "from nltk.stem.porter import PorterStemmer\n",
    "import re\n",
    "train=pd.read_table('train.txt', delimiter = ';', header=None, )\n",
    "val=pd.read_table('val.txt', delimiter = ';', header=None, )\n",
    "test=pd.read_table('test.txt', delimiter = ';', header=None, )\n",
    "\n",
    "data = pd.concat([train ,  val , test])\n",
    "data.columns = [\"text\", \"label\"]\n",
    "\n"
   ]
  },
  {
   "cell_type": "code",
   "execution_count": 4,
   "id": "c44756fd",
   "metadata": {},
   "outputs": [
    {
     "data": {
      "text/plain": [
       "(20000, 2)"
      ]
     },
     "execution_count": 4,
     "metadata": {},
     "output_type": "execute_result"
    }
   ],
   "source": [
    "data.shape"
   ]
  },
  {
   "cell_type": "code",
   "execution_count": 3,
   "id": "c3042a2f",
   "metadata": {},
   "outputs": [
    {
     "data": {
      "text/plain": [
       "0"
      ]
     },
     "execution_count": 3,
     "metadata": {},
     "output_type": "execute_result"
    }
   ],
   "source": [
    "data.isna().any(axis=1).sum()"
   ]
  },
  {
   "cell_type": "code",
   "execution_count": 5,
   "id": "6eac3269",
   "metadata": {},
   "outputs": [],
   "source": [
    "#text preprocessing\n",
    "ps = PorterStemmer()\n",
    "\n",
    "def preprocess(line):\n",
    "    review = re.sub('[^a-zA-Z]', ' ', line) #leave only characters from a to z\n",
    "    review = review.lower() #lower the text\n",
    "    review = review.split() #turn string into list of words\n",
    "    #apply Stemming \n",
    "    review = [ps.stem(word) for word in review if not word in stopwords.words('english')] #delete stop words like I, and ,OR\n",
    "    #trun list into sentences\n",
    "    return \" \".join(review)\n"
   ]
  },
  {
   "cell_type": "code",
   "execution_count": 5,
   "id": "d230e70d",
   "metadata": {},
   "outputs": [
    {
     "name": "stderr",
     "output_type": "stream",
     "text": [
      "[nltk_data] Downloading package stopwords to\n",
      "[nltk_data]     C:\\Users\\Bishal\\AppData\\Roaming\\nltk_data...\n",
      "[nltk_data]   Package stopwords is already up-to-date!\n"
     ]
    },
    {
     "data": {
      "text/plain": [
       "True"
      ]
     },
     "execution_count": 5,
     "metadata": {},
     "output_type": "execute_result"
    }
   ],
   "source": [
    "import nltk.corpus \n",
    "nltk.download('stopwords')\n"
   ]
  },
  {
   "cell_type": "code",
   "execution_count": 13,
   "id": "c0b585db",
   "metadata": {},
   "outputs": [],
   "source": [
    "data['text']=data['text'].apply(lambda x: preprocess(x))\n"
   ]
  },
  {
   "cell_type": "code",
   "execution_count": 14,
   "id": "f32480b2",
   "metadata": {},
   "outputs": [],
   "source": [
    "from sklearn import preprocessing\n",
    "\n",
    "label_encoder = preprocessing.LabelEncoder()\n",
    "data['N_label'] = label_encoder.fit_transform(data['label'])\n"
   ]
  },
  {
   "cell_type": "code",
   "execution_count": 15,
   "id": "8c8fea19",
   "metadata": {},
   "outputs": [
    {
     "data": {
      "text/plain": [
       "0       4\n",
       "1       4\n",
       "2       0\n",
       "3       3\n",
       "4       0\n",
       "       ..\n",
       "1995    0\n",
       "1996    0\n",
       "1997    2\n",
       "1998    2\n",
       "1999    1\n",
       "Name: N_label, Length: 20000, dtype: int32"
      ]
     },
     "execution_count": 15,
     "metadata": {},
     "output_type": "execute_result"
    }
   ],
   "source": [
    "data['N_label']"
   ]
  },
  {
   "cell_type": "code",
   "execution_count": 16,
   "id": "596e2847",
   "metadata": {},
   "outputs": [],
   "source": [
    "# Creating the Bag of Words model by applying Countvectorizer -convert textual data to numerical data\n",
    "\n",
    "\n",
    "from sklearn.feature_extraction.text import CountVectorizer\n",
    "\n",
    "cv = CountVectorizer(max_features=10000,ngram_range=(1,3))\n",
    "\n",
    "data_cv = cv.fit_transform(data['text']).toarray()\n",
    "\n",
    "\n"
   ]
  },
  {
   "cell_type": "code",
   "execution_count": 17,
   "id": "273c3e4b",
   "metadata": {},
   "outputs": [
    {
     "data": {
      "text/plain": [
       "(20000, 10000)"
      ]
     },
     "execution_count": 17,
     "metadata": {},
     "output_type": "execute_result"
    }
   ],
   "source": [
    "data_cv.shape"
   ]
  },
  {
   "cell_type": "code",
   "execution_count": 10,
   "id": "29d54b1e",
   "metadata": {},
   "outputs": [],
   "source": [
    "from sklearn.model_selection import train_test_split\n",
    "\n",
    "#X_train, X_test, y_train, y_test=data_cv,test_cv,train['N_label'],test['N_label']\n",
    "X_train, X_test, y_train, y_test =train_test_split(data_cv, data['N_label'], test_size=0.25, random_state=42)\n"
   ]
  },
  {
   "cell_type": "code",
   "execution_count": 11,
   "id": "f85174c7-c65a-4926-8777-3186113d19bc",
   "metadata": {},
   "outputs": [],
   "source": [
    "from tensorflow.keras.models import Sequential\n",
    "from tensorflow.keras.layers import Dense\n",
    "\n",
    "max_words = 10000\n",
    "max_sequence_length = 10000"
   ]
  },
  {
   "cell_type": "code",
   "execution_count": 13,
   "id": "9a883a53-7abe-4d23-98f5-0099492543cb",
   "metadata": {},
   "outputs": [],
   "source": [
    "import matplotlib.pyplot as plt\n",
    "import statsmodels.api as sm\n",
    "from keras.callbacks import Callback\n",
    "from math import sqrt\n",
    "from sklearn.model_selection import train_test_split\n",
    "from keras.models import Sequential\n",
    "from keras.layers import *\n",
    "from keras.callbacks import ModelCheckpoint\n",
    "from keras.losses import MeanSquaredError\n",
    "from keras.metrics import RootMeanSquaredError\n",
    "from keras.optimizers import Adam"
   ]
  },
  {
   "cell_type": "code",
   "execution_count": 239,
   "id": "c3e2d415-c42a-49d1-a901-55dbca90bdfc",
   "metadata": {},
   "outputs": [],
   "source": [
    "#data.values.reshape(-1,1)"
   ]
  },
  {
   "cell_type": "code",
   "execution_count": 243,
   "id": "b5cd01e1-16de-42ca-b955-5723775ecd66",
   "metadata": {},
   "outputs": [
    {
     "name": "stdout",
     "output_type": "stream",
     "text": [
      "Model: \"sequential_59\"\n",
      "_________________________________________________________________\n",
      " Layer (type)                Output Shape              Param #   \n",
      "=================================================================\n",
      " embedding_59 (Embedding)    (None, 10000, 32)         320000    \n",
      "                                                                 \n",
      " conv1d_38 (Conv1D)          (None, 9996, 64)          10304     \n",
      "                                                                 \n",
      " max_pooling1d_27 (MaxPooli  (None, 2499, 64)          0         \n",
      " ng1D)                                                           \n",
      "                                                                 \n",
      " flatten_19 (Flatten)        (None, 159936)            0         \n",
      "                                                                 \n",
      " dense_212 (Dense)           (None, 32)                5117984   \n",
      "                                                                 \n",
      " dropout_46 (Dropout)        (None, 32)                0         \n",
      "                                                                 \n",
      " dense_213 (Dense)           (None, 16)                528       \n",
      "                                                                 \n",
      " dense_214 (Dense)           (None, 12)                204       \n",
      "                                                                 \n",
      " dense_215 (Dense)           (None, 8)                 104       \n",
      "                                                                 \n",
      " dense_216 (Dense)           (None, 6)                 54        \n",
      "                                                                 \n",
      "=================================================================\n",
      "Total params: 5449178 (20.79 MB)\n",
      "Trainable params: 5449178 (20.79 MB)\n",
      "Non-trainable params: 0 (0.00 Byte)\n",
      "_________________________________________________________________\n"
     ]
    }
   ],
   "source": [
    "# load the dataset\n",
    "# split into input (X) and output (y) variables\n",
    "# define the keras model\n",
    "\n",
    "#model = Sequential()\n",
    "#model.add(Dense(12, input_shape=(X_train.shape[1],), activation='relu'))\n",
    "#model.add(Dense(8, activation='relu'))\n",
    "#model.add(Dense(6, activation='softmax'))\n",
    "\n",
    "#model = Sequential()\n",
    "##keras.layers.Embedding(input_dim=(X_train.shape[1],), output_dim=128, input_length=max_sequence_length),\n",
    "#model.add(LSTM(64,input_shape=(X_train.shape[1],), return_sequences=True, activation= 'relu')),\n",
    "#model.add(LSTM(64,return_sequences=False, activation= 'relu')),\n",
    "#model.add(Dense(6, activation='sigmoid'))\n",
    "\n",
    "from keras.layers import Conv1D, GlobalMaxPooling1D\n",
    "\n",
    "model = Sequential()\n",
    "model.add(Embedding(input_dim=10000, output_dim=32, input_length=max_words))\n",
    "model.add(Conv1D(64, 5, activation='relu'))\n",
    "model.add(MaxPooling1D(pool_size=4))\n",
    "#model.add(LSTM(16, return_sequences=True, activation='relu'))\n",
    "#model.add(Conv1D(64, 5, activation='relu'))\n",
    "#model.add(MaxPooling1D(pool_size=4))\n",
    "model.add(Flatten())\n",
    "model.add(Dense(32, activation='relu'))\n",
    "model.add(Dropout(0.1))\n",
    "model.add(Dense(16, activation='relu'))\n",
    "model.add(Dense(12, activation='relu'))\n",
    "model.add(Dense(8, activation='relu'))\n",
    "model.add(Dense(6, activation='softmax'))\n",
    "\n",
    "\n",
    "model.summary()"
   ]
  },
  {
   "cell_type": "code",
   "execution_count": 244,
   "id": "14b7fb5a-e1c0-4a47-845b-edb62017d13d",
   "metadata": {},
   "outputs": [],
   "source": [
    "cp1 = ModelCheckpoint('sentiment_model_v4_10000_features/', save_best_only=True)"
   ]
  },
  {
   "cell_type": "code",
   "execution_count": 245,
   "id": "33985ff0",
   "metadata": {},
   "outputs": [
    {
     "name": "stdout",
     "output_type": "stream",
     "text": [
      "Epoch 1/10\n",
      "235/235 [==============================] - ETA: 0s - loss: 1.5401 - accuracy: 0.3423INFO:tensorflow:Assets written to: sentiment_model_v4_10000_features\\assets\n"
     ]
    },
    {
     "name": "stderr",
     "output_type": "stream",
     "text": [
      "INFO:tensorflow:Assets written to: sentiment_model_v4_10000_features\\assets\n"
     ]
    },
    {
     "name": "stdout",
     "output_type": "stream",
     "text": [
      "235/235 [==============================] - 261s 1s/step - loss: 1.5401 - accuracy: 0.3423 - val_loss: 1.1840 - val_accuracy: 0.5542\n",
      "Epoch 2/10\n",
      "235/235 [==============================] - ETA: 0s - loss: 0.8988 - accuracy: 0.6735INFO:tensorflow:Assets written to: sentiment_model_v4_10000_features\\assets\n"
     ]
    },
    {
     "name": "stderr",
     "output_type": "stream",
     "text": [
      "INFO:tensorflow:Assets written to: sentiment_model_v4_10000_features\\assets\n"
     ]
    },
    {
     "name": "stdout",
     "output_type": "stream",
     "text": [
      "235/235 [==============================] - 245s 1s/step - loss: 0.8988 - accuracy: 0.6735 - val_loss: 0.7251 - val_accuracy: 0.7508\n",
      "Epoch 3/10\n",
      "235/235 [==============================] - ETA: 0s - loss: 0.5494 - accuracy: 0.8016INFO:tensorflow:Assets written to: sentiment_model_v4_10000_features\\assets\n"
     ]
    },
    {
     "name": "stderr",
     "output_type": "stream",
     "text": [
      "INFO:tensorflow:Assets written to: sentiment_model_v4_10000_features\\assets\n"
     ]
    },
    {
     "name": "stdout",
     "output_type": "stream",
     "text": [
      "235/235 [==============================] - 237s 1s/step - loss: 0.5494 - accuracy: 0.8016 - val_loss: 0.6394 - val_accuracy: 0.7884\n",
      "Epoch 4/10\n",
      "235/235 [==============================] - ETA: 0s - loss: 0.3892 - accuracy: 0.8671INFO:tensorflow:Assets written to: sentiment_model_v4_10000_features\\assets\n"
     ]
    },
    {
     "name": "stderr",
     "output_type": "stream",
     "text": [
      "INFO:tensorflow:Assets written to: sentiment_model_v4_10000_features\\assets\n"
     ]
    },
    {
     "name": "stdout",
     "output_type": "stream",
     "text": [
      "235/235 [==============================] - 231s 985ms/step - loss: 0.3892 - accuracy: 0.8671 - val_loss: 0.6118 - val_accuracy: 0.8166\n",
      "Epoch 5/10\n",
      "235/235 [==============================] - 226s 960ms/step - loss: 0.2747 - accuracy: 0.9069 - val_loss: 0.6375 - val_accuracy: 0.8220\n",
      "Epoch 6/10\n",
      "235/235 [==============================] - 226s 963ms/step - loss: 0.2266 - accuracy: 0.9234 - val_loss: 0.7260 - val_accuracy: 0.8172\n",
      "Epoch 7/10\n",
      "235/235 [==============================] - 226s 964ms/step - loss: 0.1860 - accuracy: 0.9375 - val_loss: 0.7599 - val_accuracy: 0.8216\n",
      "Epoch 8/10\n",
      "235/235 [==============================] - 225s 957ms/step - loss: 0.1660 - accuracy: 0.9456 - val_loss: 0.7613 - val_accuracy: 0.8174\n",
      "Epoch 9/10\n",
      "235/235 [==============================] - 226s 964ms/step - loss: 0.1549 - accuracy: 0.9495 - val_loss: 0.7730 - val_accuracy: 0.8210\n",
      "Epoch 10/10\n",
      "235/235 [==============================] - 225s 958ms/step - loss: 0.1430 - accuracy: 0.9540 - val_loss: 0.8314 - val_accuracy: 0.8228\n",
      "469/469 [==============================] - 55s 117ms/step - loss: 0.0580 - accuracy: 0.9848\n",
      "Accuracy: 98.48\n"
     ]
    }
   ],
   "source": [
    "\n",
    "\n",
    "# compile the keras model\n",
    "model.compile(loss='sparse_categorical_crossentropy', optimizer=Adam(learning_rate=0.001), metrics=['accuracy'])\n",
    "# fit the keras model on the dataset\n",
    "history = model.fit(X_train, y_train, validation_data=(X_test, y_test), epochs=10, callbacks=[cp1], batch_size=64)\n",
    "# evaluate the keras model\n",
    "_, accuracy = model.evaluate(X_train, y_train)\n",
    "print('Accuracy: %.2f' % (accuracy*100))"
   ]
  },
  {
   "cell_type": "code",
   "execution_count": null,
   "id": "1d141c4c-7bb4-4855-938a-8870bba75f73",
   "metadata": {},
   "outputs": [],
   "source": [
    "# Save the model\n",
    "model.save(\"mental_health_classification_model_v4_10000_feature.keras\")"
   ]
  },
  {
   "cell_type": "code",
   "execution_count": 247,
   "id": "e2a5f50a-79ff-4631-894c-3fd810e046b5",
   "metadata": {},
   "outputs": [
    {
     "data": {
      "image/png": "[encoded data removed]",
      "text/plain": [
       "<Figure size 640x480 with 1 Axes>"
      ]
     },
     "metadata": {},
     "output_type": "display_data"
    },
    {
     "data": {
      "image/png": "[encoded data removed]",
      "text/plain": [
       "<Figure size 640x480 with 1 Axes>"
      ]
     },
     "metadata": {},
     "output_type": "display_data"
    }
   ],
   "source": [
    "import matplotlib.pyplot as plt\n",
    "# Plot the accuracy graph\n",
    "plt.plot(history.history['accuracy'])\n",
    "plt.plot(history.history['val_accuracy'])\n",
    "plt.title('Model accuracy')\n",
    "plt.ylabel('Accuracy')\n",
    "plt.xlabel('Epoch')\n",
    "plt.legend(['Train', 'Validation'], loc='upper left')\n",
    "plt.show()\n",
    "\n",
    "# Plot the loss graph\n",
    "plt.plot(history.history['loss'])\n",
    "plt.plot(history.history['val_loss'])\n",
    "plt.title('Model loss')\n",
    "plt.ylabel('Loss')\n",
    "plt.xlabel('Epoch')\n",
    "plt.legend(['Train', 'Validation'], loc='upper left')\n",
    "plt.show()"
   ]
  },
  {
   "cell_type": "code",
   "execution_count": 248,
   "id": "b6867f1a",
   "metadata": {},
   "outputs": [
    {
     "name": "stdout",
     "output_type": "stream",
     "text": [
      "157/157 [==============================] - 18s 111ms/step - loss: 0.8314 - accuracy: 0.8228\n",
      "Accuracy: 82.28\n"
     ]
    }
   ],
   "source": [
    "_, accuracy = model.evaluate(X_test, y_test)\n",
    "print('Accuracy: %.2f' % (accuracy*100))"
   ]
  },
  {
   "cell_type": "code",
   "execution_count": 1,
   "id": "925720e4-38aa-474c-a883-8216a7440eb4",
   "metadata": {},
   "outputs": [],
   "source": [
    "from tensorflow.keras.models import load_model\n",
    "\n",
    "model=load_model(\"mental_health_classification_model_v4_10000_feature.keras\")"
   ]
  },
  {
   "cell_type": "code",
   "execution_count": 4,
   "id": "bbea66ce-41f8-4b62-9fa1-676477a0fc58",
   "metadata": {},
   "outputs": [],
   "source": [
    "import pickle\n",
    "# Load the tokenizer for text preprocessing\n",
    "with open('tokenizer.pkl', 'rb') as f:\n",
    "    tokenizer = pickle.load(f)\n",
    "\n",
    "# Load the vectorizers for text preprocessing\n",
    "with open('vectorizer_bow.pkl', 'rb') as f:\n",
    "    vectorizer_bow = pickle.load(f)\n",
    "with open('vectorizer_tfidf.pkl', 'rb') as f:\n",
    "    vectorizer_tfidf = pickle.load(f)"
   ]
  },
  {
   "cell_type": "code",
   "execution_count": 13,
   "id": "a0d1d98f-f60b-4fed-a873-c81b5ecccda7",
   "metadata": {},
   "outputs": [],
   "source": [
    "from keras.preprocessing.sequence import pad_sequences\n",
    "def chatbot_response(user_input):\n",
    "    # Tokenize user input\n",
    "    user_input_sequence = tokenizer.texts_to_sequences([user_input])\n",
    "\n",
    "    # Transform user input into BoW and TF-IDF features\n",
    "    user_input_bow = vectorizer_bow.transform([user_input])\n",
    "    user_input_tfidf = vectorizer_tfidf.transform([user_input])\n",
    "\n",
    "    # Concatenate BoW and TF-IDF features\n",
    "    user_input_combined = np.concatenate((user_input_bow.toarray(), user_input_tfidf.toarray()), axis=1)\n",
    "\n",
    "    # Pad the user input to have the same length as the training data\n",
    "    max_sequence_length = 5000  \n",
    "    user_input_padded = pad_sequences(user_input_combined, maxlen=max_sequence_length)\n",
    "\n",
    "    # Make predictions\n",
    "    prediction = model.predict(user_input_padded)\n",
    "\n",
    "    # Interpret predictions\n",
    "    predicted_class = np.argmax(prediction)\n",
    "    class_names = [\"sadness\", \"anger\", \"love\", \"surprise\", \"joy\", \"fear\"] \n",
    "    response = class_names[predicted_class]\n",
    "\n",
    "    return response"
   ]
  },
  {
   "cell_type": "code",
   "execution_count": null,
   "id": "241ce1fc-2177-4680-8591-fd467ad809c4",
   "metadata": {},
   "outputs": [],
   "source": [
    "# Main chat loop\n",
    "print(\"Chatbot: Hi! How can I assist you today? Type 'exit' to end the conversation.\")\n",
    "while True:\n",
    "    user_input = input(\"You: \")\n",
    "    if user_input.lower() == 'exit':\n",
    "        print(\"Chatbot: Goodbye!\")\n",
    "        break\n",
    "    response = chatbot_response(user_input)\n",
    "    print(\"Chatbot:\", response)"
   ]
  },
  {
   "cell_type": "code",
   "execution_count": 2,
   "id": "39a6a7d6-93d3-410e-8782-7219e43d7c82",
   "metadata": {},
   "outputs": [],
   "source": [
    "import pickle\n",
    "import numpy as np\n",
    "with open('CountVectorizer_v4.pkl', 'rb') as file:\n",
    "    content = file.read()\n",
    "    cv2= pickle.loads(content)\n",
    "with open('encoder_v4.pkl', 'rb') as file:\n",
    "    content = file.read()\n",
    "    label_encoder2 = pickle.loads(content)\n",
    "\n",
    "\n"
   ]
  },
  {
   "cell_type": "code",
   "execution_count": 19,
   "id": "fee946e4",
   "metadata": {},
   "outputs": [
    {
     "name": "stdout",
     "output_type": "stream",
     "text": [
      "1/1 [==============================] - 0s 24ms/step\n",
      "fear\n"
     ]
    }
   ],
   "source": [
    "#---Pranoy71---#\n",
    "text =\"His eyes narrowed, a storm brewing within as he surveyed the shattered pieces before him, his voice cold and steady, “Someone will answer for this chaos. \"\n",
    "text=preprocess(text)\n",
    "array = cv2.transform([text]).toarray()\n",
    "pred = model.predict(array)\n",
    "a=np.argmax(pred, axis=1)\n",
    "senti=label_encoder2.inverse_transform(a)[0]\n",
    "print(senti)"
   ]
  },
  {
   "cell_type": "code",
   "execution_count": 371,
   "id": "5877746b",
   "metadata": {},
   "outputs": [],
   "source": [
    "tf.keras.models.save_model(model,'my_model.h5')\n",
    "Did you know that when you visit Cellular Jail. The walls of the mansion seem to whisper secrets of its dirty past."
   ]
  },
  {
   "cell_type": "code",
   "execution_count": 19,
   "id": "ea79609f",
   "metadata": {},
   "outputs": [],
   "source": [
    "import pickle\n",
    "pickle.dump(label_encoder, open('encoder_v4.pkl', 'wb'))\n",
    "pickle.dump(cv, open('CountVectorizer_v4.pkl', 'wb'))\n"
   ]
  },
  {
   "cell_type": "code",
   "execution_count": null,
   "id": "31a85ca2-e2c7-4c1f-96ba-607e37621226",
   "metadata": {},
   "outputs": [],
   "source": []
  }
 ],
 "metadata": {
  "kernelspec": {
   "display_name": "Python 3 (ipykernel)",
   "language": "python",
   "name": "python3"
  },
  "language_info": {
   "codemirror_mode": {
    "name": "ipython",
    "version": 3
   },
   "file_extension": ".py",
   "mimetype": "text/x-python",
   "name": "python",
   "nbconvert_exporter": "python",
   "pygments_lexer": "ipython3",
   "version": "3.10.6"
  }
 },
 "nbformat": 4,
 "nbformat_minor": 5
}
